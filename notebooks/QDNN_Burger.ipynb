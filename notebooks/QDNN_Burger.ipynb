{
  "cells": [
    {
      "cell_type": "code",
      "execution_count": null,
      "id": "3bb0c226-403e-4cd9-841b-d9017badf691",
      "metadata": {
        "id": "3bb0c226-403e-4cd9-841b-d9017badf691"
      },
      "outputs": [],
      "source": [
        "import numpy as np\n",
        "import sys\n",
        "# Importing standard Qiskit libraries\n",
        "from qiskit import QuantumCircuit, transpile, Aer, IBMQ\n",
        "from qiskit.tools.jupyter import *\n",
        "from qiskit.visualization import *\n",
        "from ibm_quantum_widgets import *\n",
        "from qiskit.providers.aer import QasmSimulator\n",
        "\n",
        "\n",
        "# Loading your IBM Quantum account(s)\n",
        "# provider = IBMQ.load_account()"
      ]
    },
    {
      "cell_type": "code",
      "execution_count": null,
      "id": "afe04c18-5549-4496-8dae-f14dff0ac0aa",
      "metadata": {
        "id": "afe04c18-5549-4496-8dae-f14dff0ac0aa"
      },
      "outputs": [],
      "source": [
        "import torch\n",
        "import torch.nn as nn\n",
        "import torch.nn.functional as F\n",
        "from torch.nn.parameter import Parameter\n",
        "import h5py\n",
        "from typing import Tuple\n",
        "from torch.utils.data import Dataset\n",
        "from torch.utils.data import DataLoader"
      ]
    },
    {
      "cell_type": "code",
      "execution_count": null,
      "id": "7587e90e-86b2-4ded-98a6-9ca23352f729",
      "metadata": {
        "id": "7587e90e-86b2-4ded-98a6-9ca23352f729"
      },
      "outputs": [],
      "source": [
        "from IPython.display import clear_output\n",
        "from qiskit import QuantumCircuit, Aer\n",
        "from qiskit.algorithms.optimizers import COBYLA\n",
        "from qiskit.circuit import ParameterVector\n",
        "from qiskit.circuit.library import ZFeatureMap, ZZFeatureMap, RealAmplitudes\n",
        "from qiskit.opflow import AerPauliExpectation, PauliSumOp\n",
        "from qiskit.utils import QuantumInstance, algorithm_globals\n",
        "from qiskit_machine_learning.algorithms.regressors import NeuralNetworkRegressor\n",
        "from qiskit_machine_learning.neural_networks import TwoLayerQNN\n",
        "from qiskit.algorithms.optimizers import L_BFGS_B,ADAM,GradientDescent\n",
        "from qiskit.circuit import Parameter"
      ]
    },
    {
      "cell_type": "code",
      "execution_count": null,
      "id": "11d71eb3-5ccc-49b8-99c0-2c87807d9ce0",
      "metadata": {
        "id": "11d71eb3-5ccc-49b8-99c0-2c87807d9ce0"
      },
      "outputs": [],
      "source": [
        "import matplotlib.pyplot as plt\n",
        "import seaborn as sns\n",
        "import pickle\n",
        "from mpl_toolkits.mplot3d import Axes3D\n",
        "import math\n",
        "import csv"
      ]
    },
    {
      "cell_type": "markdown",
      "id": "17736b96-3124-490c-834c-1717c57bc545",
      "metadata": {
        "id": "17736b96-3124-490c-834c-1717c57bc545"
      },
      "source": [
        "# Data Processing for 1D Burger's Equation part"
      ]
    },
    {
      "cell_type": "code",
      "execution_count": null,
      "id": "249dc0bd-00f4-49ba-9b30-e08bbb081f14",
      "metadata": {
        "id": "249dc0bd-00f4-49ba-9b30-e08bbb081f14"
      },
      "outputs": [],
      "source": [
        "number_of_samples = 2000\n",
        "x= np.load('dataset/burgers_x'+'_'+str(number_of_samples)+'.npy')\n",
        "t= np.load('dataset/burgers_t'+'_'+str(number_of_samples)+'.npy')\n",
        "u= np.array(np.load('dataset/burgers_u'+'_'+str(number_of_samples)+'.npy'),dtype=np.float32).reshape(len(x),len(t))"
      ]
    },
    {
      "cell_type": "code",
      "execution_count": null,
      "id": "8cdfd043-6579-4bb2-a8e1-9ffdbafbc2dc",
      "metadata": {
        "id": "8cdfd043-6579-4bb2-a8e1-9ffdbafbc2dc"
      },
      "outputs": [],
      "source": [
        "noise_level = 0.1\n",
        "number_of_samples = 2000"
      ]
    },
    {
      "cell_type": "code",
      "execution_count": null,
      "id": "e81695af-7adc-4ac9-b13d-1cee36e7913a",
      "metadata": {
        "id": "e81695af-7adc-4ac9-b13d-1cee36e7913a"
      },
      "outputs": [],
      "source": [
        "nn_shared_features = []\n",
        "nn_specific_features = [65,65,65,65,1]\n",
        "\n",
        "# learning parameters\n",
        "deltaSP = 1e-5 # target MSE on test set before triggering sparsity for the first time\n",
        "deltaC = 1e-2  # converge criterion\n",
        "learning_rate = 5e-3\n",
        "max_epochs = 1e5+1"
      ]
    },
    {
      "cell_type": "code",
      "execution_count": null,
      "id": "1fadd93b-52f0-4e82-ace7-14d9ffe7d735",
      "metadata": {
        "id": "1fadd93b-52f0-4e82-ace7-14d9ffe7d735"
      },
      "outputs": [],
      "source": [
        "noise_l = noise_level*np.std(u)*np.random.randn(u.shape[0],u.shape[1])\n",
        "u = u + noise_l"
      ]
    },
    {
      "cell_type": "code",
      "execution_count": null,
      "id": "1ddb6255-92bd-4396-b10a-1a787b2a8d53",
      "metadata": {
        "id": "1ddb6255-92bd-4396-b10a-1a787b2a8d53",
        "outputId": "652e8604-5d1a-4d01-ba3a-6e98cd561b36"
      },
      "outputs": [
        {
          "data": {
            "image/png": "[encoded data removed]",
            "text/plain": [
              "<Figure size 288x288 with 1 Axes>"
            ]
          },
          "metadata": {},
          "output_type": "display_data"
        }
      ],
      "source": [
        "fig,ax = plt.subplots(1,1, figsize=(4,4))\n",
        "\n",
        "u1_noisy = u\n",
        "\n",
        "bx = sns.heatmap(u1_noisy.T,ax=ax,vmin=0,vmax=1,cmap='Spectral',cbar=False)\n",
        "bx.invert_yaxis()    \n",
        "bx.set_xticks([])\n",
        "bx.set_yticks([])\n",
        "\n",
        "ax.set_xlabel('x')\n",
        "ax.set_ylabel('t');"
      ]
    },
    {
      "cell_type": "code",
      "execution_count": null,
      "id": "ae69914c-8f2a-4a36-8769-bff5d7b3396d",
      "metadata": {
        "id": "ae69914c-8f2a-4a36-8769-bff5d7b3396d"
      },
      "outputs": [],
      "source": [
        "x_grid,  t_grid = np.meshgrid(x,  t, indexing=\"ij\")"
      ]
    },
    {
      "cell_type": "code",
      "execution_count": null,
      "id": "fe24fd5e-0296-4408-9b93-db960b396dc8",
      "metadata": {
        "id": "fe24fd5e-0296-4408-9b93-db960b396dc8"
      },
      "outputs": [],
      "source": [
        "from sklearn.model_selection import train_test_split\n",
        "from sklearn.utils.random import sample_without_replacement\n",
        "from sklearn.utils import shuffle,resample\n",
        "from sklearn.linear_model import Ridge"
      ]
    },
    {
      "cell_type": "code",
      "execution_count": null,
      "id": "996d8266-fa95-4214-ae64-08e96167df12",
      "metadata": {
        "id": "996d8266-fa95-4214-ae64-08e96167df12"
      },
      "outputs": [],
      "source": [
        "idx = resample(np.arange(u1_noisy.ravel().shape[0]),replace=False,random_state=44,n_samples=number_of_samples)\n",
        "\n",
        "u1_noisy_shuffled = (u1_noisy.ravel())[idx]\n",
        "xs = ((x_grid.ravel())[idx]).reshape(-1,1)\n",
        "ts = ((t_grid).ravel()[idx]).reshape(-1,1)"
      ]
    },
    {
      "cell_type": "code",
      "execution_count": null,
      "id": "6d9e2be5-8396-4e4b-9979-26a6c7e9c3ae",
      "metadata": {
        "id": "6d9e2be5-8396-4e4b-9979-26a6c7e9c3ae"
      },
      "outputs": [],
      "source": [
        "scale_from_outputs = []\n",
        "u_d = []\n",
        "\n",
        "# scaling and subsampling\n",
        "u_sampled = u1_noisy_shuffled.reshape(-1,1)\n",
        "u_max = u_sampled.max()\n",
        "scale_from_outputs.append(u_max)\n",
        "u_d.append(u_sampled/u_max)    "
      ]
    },
    {
      "cell_type": "code",
      "execution_count": null,
      "id": "ff417a9e-9efb-43fe-9d4d-26c80dcafe66",
      "metadata": {
        "id": "ff417a9e-9efb-43fe-9d4d-26c80dcafe66"
      },
      "outputs": [],
      "source": [
        "# Data Normalization\n",
        "\n",
        "X_data = np.concatenate([ts/t.max(),xs/x.max()],axis=1)\n",
        "y_data = np.concatenate(u_d,axis=0)"
      ]
    },
    {
      "cell_type": "code",
      "source": [
        "X_train, X_test, y_train, y_test = train_test_split(X_data, y_data, test_size=0.2, random_state=42)"
      ],
      "metadata": {
        "id": "A-vFGJAoTesX"
      },
      "id": "A-vFGJAoTesX",
      "execution_count": null,
      "outputs": []
    },
    {
      "cell_type": "markdown",
      "id": "4b8a4645-6c50-4f31-928d-9d89ca44e169",
      "metadata": {
        "id": "4b8a4645-6c50-4f31-928d-9d89ca44e169"
      },
      "source": [
        "#  QNN Model Construction Part"
      ]
    },
    {
      "cell_type": "markdown",
      "id": "b7b0d0c6-d4b4-488f-8253-8e3b721d4385",
      "metadata": {
        "id": "b7b0d0c6-d4b4-488f-8253-8e3b721d4385"
      },
      "source": [
        "### Model Components"
      ]
    },
    {
      "cell_type": "code",
      "execution_count": null,
      "id": "9c04bb33-e3bc-4881-bd5a-8997591bb253",
      "metadata": {
        "id": "9c04bb33-e3bc-4881-bd5a-8997591bb253",
        "outputId": "7cb2b5cb-3b9d-43ef-a408-a4a6926a8dbd"
      },
      "outputs": [
        {
          "data": {
            "image/png": "[encoded data removed]",
            "text/plain": [
              "<Figure size 327.252x144.48 with 1 Axes>"
            ]
          },
          "execution_count": 16,
          "metadata": {},
          "output_type": "execute_result"
        }
      ],
      "source": [
        "# Feature map\n",
        "# Data encoding\n",
        "feature_map = ZFeatureMap(2)\n",
        "feature_map.decompose().draw(\"mpl\")"
      ]
    },
    {
      "cell_type": "markdown",
      "id": "ebba4b55-4095-4b1e-a45d-5e508386e261",
      "metadata": {
        "id": "ebba4b55-4095-4b1e-a45d-5e508386e261"
      },
      "source": [
        "### Convolution Layer"
      ]
    },
    {
      "cell_type": "code",
      "execution_count": null,
      "id": "897121fb-e964-4433-8fba-baf1a3629f72",
      "metadata": {
        "id": "897121fb-e964-4433-8fba-baf1a3629f72"
      },
      "outputs": [],
      "source": [
        "def conv_circuit(params):\n",
        "    target = QuantumCircuit(2)\n",
        "    target.rz(-np.pi / 2, 1)\n",
        "    target.cx(1, 0)\n",
        "    target.rz(params[0], 0)\n",
        "    target.ry(params[1], 1)\n",
        "    target.cx(0, 1)\n",
        "    target.ry(params[2], 1)\n",
        "    target.cx(1, 0)\n",
        "    target.rz(np.pi / 2, 0)\n",
        "    return target"
      ]
    },
    {
      "cell_type": "code",
      "execution_count": null,
      "id": "eb805364-a3da-43f2-b7f0-b98f1a060ccd",
      "metadata": {
        "id": "eb805364-a3da-43f2-b7f0-b98f1a060ccd"
      },
      "outputs": [],
      "source": [
        "def conv_layer(num_qubits, param_prefix):\n",
        "    qc = QuantumCircuit(num_qubits, name=\"Convolutional Layer\")\n",
        "    qubits = list(range(num_qubits))\n",
        "    param_index = 0\n",
        "    params = ParameterVector(param_prefix, length=num_qubits * 3)\n",
        "    for q1, q2 in zip(qubits[0::2], qubits[1::2]):\n",
        "        qc = qc.compose(conv_circuit(params[param_index : (param_index + 3)]), [q1, q2])\n",
        "        qc.barrier()\n",
        "        param_index += 3\n",
        "    for q1, q2 in zip(qubits[1::2], qubits[2::2] + [0]):\n",
        "        qc = qc.compose(conv_circuit(params[param_index : (param_index + 3)]), [q1, q2])\n",
        "        qc.barrier()\n",
        "        param_index += 3\n",
        "\n",
        "    qc_inst = qc.to_instruction()\n",
        "\n",
        "    qc = QuantumCircuit(num_qubits)\n",
        "    qc.append(qc_inst, qubits)\n",
        "    return qc"
      ]
    },
    {
      "cell_type": "markdown",
      "id": "e56dcaa8-9d0b-463d-961f-9c018702866c",
      "metadata": {
        "id": "e56dcaa8-9d0b-463d-961f-9c018702866c"
      },
      "source": [
        "### Pooling layer"
      ]
    },
    {
      "cell_type": "code",
      "execution_count": null,
      "id": "ff07668f-84ae-4ccf-85ce-d591312feba5",
      "metadata": {
        "id": "ff07668f-84ae-4ccf-85ce-d591312feba5"
      },
      "outputs": [],
      "source": [
        "def pool_circuit(params):\n",
        "    target = QuantumCircuit(2)\n",
        "    target.rz(-np.pi / 2, 1)\n",
        "    target.cx(1, 0)\n",
        "    target.rz(params[0], 0)\n",
        "    target.ry(params[1], 1)\n",
        "    target.cx(0, 1)\n",
        "    target.ry(params[2], 1)\n",
        "\n",
        "    return target"
      ]
    },
    {
      "cell_type": "code",
      "execution_count": null,
      "id": "1c534881-57f5-4c86-b900-dbe1f38ebe57",
      "metadata": {
        "id": "1c534881-57f5-4c86-b900-dbe1f38ebe57"
      },
      "outputs": [],
      "source": [
        "def pool_layer(sources, sinks, param_prefix):\n",
        "    num_qubits = len(sources) + len(sinks)\n",
        "    qc = QuantumCircuit(num_qubits, name=\"Pooling Layer\")\n",
        "    param_index = 0\n",
        "    params = ParameterVector(param_prefix, length=num_qubits // 2 * 3)\n",
        "    for source, sink in zip(sources, sinks):\n",
        "        qc = qc.compose(pool_circuit(params[param_index : (param_index + 3)]), [source, sink])\n",
        "        qc.barrier()\n",
        "        param_index += 3\n",
        "\n",
        "    qc_inst = qc.to_instruction()\n",
        "\n",
        "    qc = QuantumCircuit(num_qubits)\n",
        "    qc.append(qc_inst, range(num_qubits))\n",
        "    return qc"
      ]
    },
    {
      "cell_type": "markdown",
      "id": "d44abdc5-9b29-459a-8331-c21d7ba1d9f9",
      "metadata": {
        "id": "d44abdc5-9b29-459a-8331-c21d7ba1d9f9"
      },
      "source": [
        "### Model Construct"
      ]
    },
    {
      "cell_type": "code",
      "execution_count": null,
      "id": "11087b33-00b3-4db6-9f66-faed0264fdb8",
      "metadata": {
        "id": "11087b33-00b3-4db6-9f66-faed0264fdb8"
      },
      "outputs": [],
      "source": [
        "quantum_instance = QuantumInstance(Aer.get_backend(\"aer_simulator\"), shots=1024)\n",
        "\n",
        "feature_map = ZFeatureMap(2)\n",
        "\n",
        "ansatz = QuantumCircuit(2, name=\"Ansatz\")\n",
        "\n",
        "# First Convolutional Layer\n",
        "ansatz.compose(conv_layer(2, \"с1\"), list(range(2)), inplace=True)\n",
        "\n",
        "# First Pooling Layer\n",
        "ansatz.compose(pool_layer([0], [1], \"p1\"), list(range(2)), inplace=True)\n",
        "\n",
        "# Second Convolutional Layer\n",
        "ansatz.compose(conv_layer(2, \"c2\"), list(range(2)), inplace=True)\n",
        "\n",
        "# Second Pooling Layer\n",
        "#ansatz.compose(pool_layer([0, 1], \"p2\"), list(range(1)), inplace=True)\n",
        "\n",
        "# Third Convolutional Layer\n",
        "#ansatz.compose(conv_layer(2, \"c3\"), list(range(2)), inplace=True)\n",
        "\n",
        "# Third Pooling Layer\n",
        "ansatz.compose(pool_layer([0], [1], \"p3\"), list(range(2)), inplace=True)\n",
        "\n",
        "# Combining the feature map and ansatz\n",
        "circuit = QuantumCircuit(2)\n",
        "circuit.compose(feature_map, range(2), inplace=True)\n",
        "circuit.compose(ansatz, range(2), inplace=True)\n",
        "\n",
        "#observable = PauliSumOp.from_list([(\"Z\" + \"I\" * 7, 1)])\n",
        "\n",
        "# specify the observable\n",
        "observable = PauliSumOp.from_list([(\"Z\" * 2, 1)])\n",
        "\n",
        "qnn = TwoLayerQNN(\n",
        "    num_qubits=2,\n",
        "    feature_map=feature_map,\n",
        "    ansatz=ansatz,\n",
        "    observable=observable,\n",
        "    exp_val=AerPauliExpectation(),\n",
        "    quantum_instance=quantum_instance,\n",
        ")"
      ]
    },
    {
      "cell_type": "code",
      "execution_count": null,
      "id": "278d0216-fbf4-4c7b-95c5-8d49e5eee863",
      "metadata": {
        "id": "278d0216-fbf4-4c7b-95c5-8d49e5eee863",
        "outputId": "b623ead3-abb7-45d2-963f-693529c716c9"
      },
      "outputs": [
        {
          "data": {
            "image/png": "[encoded data removed]",
            "text/plain": [
              "<Figure size 1109.85x144.48 with 1 Axes>"
            ]
          },
          "execution_count": 25,
          "metadata": {},
          "output_type": "execute_result"
        }
      ],
      "source": [
        "circuit.draw(\"mpl\")"
      ]
    },
    {
      "cell_type": "code",
      "execution_count": null,
      "id": "c8ef0157-1075-44e0-9132-8336235da920",
      "metadata": {
        "id": "c8ef0157-1075-44e0-9132-8336235da920"
      },
      "outputs": [],
      "source": [
        "def callback_graph(weights, obj_func_eval):\n",
        "    clear_output(wait=True)\n",
        "    objective_func_vals.append(obj_func_eval)\n",
        "    plt.title(\"Objective function value against iteration\")\n",
        "    plt.xlabel(\"Iteration\")\n",
        "    plt.ylabel(\"Objective function value\")\n",
        "    plt.plot(range(len(objective_func_vals)), objective_func_vals)\n",
        "    plt.show()"
      ]
    },
    {
      "cell_type": "code",
      "execution_count": null,
      "id": "e38211c1-28bd-4589-96aa-494a829d0827",
      "metadata": {
        "id": "e38211c1-28bd-4589-96aa-494a829d0827"
      },
      "outputs": [],
      "source": [
        "circuit = QuantumCircuit(2)\n",
        "circuit.compose(feature_map,  inplace=True)\n",
        "circuit.compose(ansatz,  inplace=True)"
      ]
    },
    {
      "cell_type": "code",
      "execution_count": null,
      "id": "b904d9bc-751f-48d0-9e52-b92c4ab845fc",
      "metadata": {
        "id": "b904d9bc-751f-48d0-9e52-b92c4ab845fc",
        "outputId": "249a8c7d-74e8-4613-a046-aefc50d0c1d6"
      },
      "outputs": [
        {
          "data": {
            "image/png": "[encoded data removed]",
            "text/plain": [
              "<Figure size 1109.85x144.48 with 1 Axes>"
            ]
          },
          "execution_count": 24,
          "metadata": {},
          "output_type": "execute_result"
        }
      ],
      "source": [
        "circuit.draw('mpl')"
      ]
    },
    {
      "cell_type": "code",
      "source": [
        "regressor = NeuralNetworkRegressor(\n",
        "    neural_network=qnn,\n",
        "    loss=\"squared_error\",\n",
        "    optimizer=L_BFGS_B(),\n",
        "    callback=callback_graph,\n",
        ")"
      ],
      "metadata": {
        "id": "S3F8dezsTrp1"
      },
      "id": "S3F8dezsTrp1",
      "execution_count": null,
      "outputs": []
    },
    {
      "cell_type": "markdown",
      "id": "8dc723f2-9721-4057-bae2-d26c7695f1ff",
      "metadata": {
        "id": "8dc723f2-9721-4057-bae2-d26c7695f1ff"
      },
      "source": [
        "# Model Training Part"
      ]
    },
    {
      "cell_type": "code",
      "execution_count": null,
      "id": "d00e0d95-ce56-4275-b436-d3595829cd16",
      "metadata": {
        "id": "d00e0d95-ce56-4275-b436-d3595829cd16",
        "outputId": "19175cd2-eff8-45d8-83b2-b09bfa0d4306"
      },
      "outputs": [
        {
          "data": {
            "image/png": "[encoded data removed]",
            "text/plain": [
              "<Figure size 864x432 with 1 Axes>"
            ]
          },
          "metadata": {
            "needs_background": "light"
          },
          "output_type": "display_data"
        },
        {
          "data": {
            "text/plain": [
              "0.7948170381367301"
            ]
          },
          "execution_count": 31,
          "metadata": {},
          "output_type": "execute_result"
        }
      ],
      "source": [
        "objective_func_vals = []\n",
        "plt.rcParams[\"figure.figsize\"] = (12, 6)\n",
        "regressor.fit(X_train, y_train)\n",
        "# return to default figsize\n",
        "plt.rcParams[\"figure.figsize\"] = (6, 4)\n",
        "\n",
        "# score classifier\n",
        "regressor.score(X_test, y_test)"
      ]
    },
    {
      "cell_type": "code",
      "execution_count": null,
      "id": "2928b1a6-b980-4474-bf12-2b035e1cc2b7",
      "metadata": {
        "id": "2928b1a6-b980-4474-bf12-2b035e1cc2b7",
        "outputId": "050187c4-7fa6-43a8-eacf-065223a50c19"
      },
      "outputs": [
        {
          "data": {
            "text/plain": [
              "[<matplotlib.lines.Line2D at 0x7fbcd4e6ebb0>]"
            ]
          },
          "execution_count": 32,
          "metadata": {},
          "output_type": "execute_result"
        },
        {
          "data": {
            "image/png": "[encoded data removed]",
            "text/plain": [
              "<Figure size 432x288 with 1 Axes>"
            ]
          },
          "metadata": {
            "needs_background": "light"
          },
          "output_type": "display_data"
        }
      ],
      "source": [
        "plt.plot(y_test[:16])"
      ]
    },
    {
      "cell_type": "code",
      "execution_count": null,
      "id": "0fdd97ee-a7a4-45db-b06c-eda6ca83b87c",
      "metadata": {
        "id": "0fdd97ee-a7a4-45db-b06c-eda6ca83b87c",
        "outputId": "0d3dc939-e7f0-4a29-9e38-80ace6204769"
      },
      "outputs": [
        {
          "data": {
            "text/plain": [
              "[<matplotlib.lines.Line2D at 0x7fbcd4f8d460>]"
            ]
          },
          "execution_count": 33,
          "metadata": {},
          "output_type": "execute_result"
        },
        {
          "data": {
            "image/png": "[encoded data removed]",
            "text/plain": [
              "<Figure size 432x288 with 1 Axes>"
            ]
          },
          "metadata": {
            "needs_background": "light"
          },
          "output_type": "display_data"
        }
      ],
      "source": [
        "plt.plot(regressor.predict(X_test[:16]))"
      ]
    }
  ],
  "metadata": {
    "kernelspec": {
      "display_name": "Python 3 (ipykernel)",
      "language": "python",
      "name": "python3"
    },
    "language_info": {
      "codemirror_mode": {
        "name": "ipython",
        "version": 3
      },
      "file_extension": ".py",
      "mimetype": "text/x-python",
      "name": "python",
      "nbconvert_exporter": "python",
      "pygments_lexer": "ipython3",
      "version": "3.9.13"
    },
    "colab": {
      "provenance": []
    }
  },
  "nbformat": 4,
  "nbformat_minor": 5
}